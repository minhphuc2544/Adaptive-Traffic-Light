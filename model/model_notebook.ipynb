{
 "cells": [
  {
   "cell_type": "markdown",
   "metadata": {
    "id": "o5ZZU2inaFLJ"
   },
   "source": [
    "# <font color='red'>Some maths</font>"
   ]
  },
  {
   "cell_type": "markdown",
   "metadata": {
    "id": "80NRpItHb4yr"
   },
   "source": [
    "## <font color='cyan'>Loss function at a point</font>\n",
    "$L = \\dfrac{1}{2}(\\hat{y}_i - y_i)^2$"
   ]
  },
  {
   "cell_type": "markdown",
   "metadata": {
    "id": "m_ep3pqzdCi3"
   },
   "source": [
    "## <font color='cyan'>Loss function at all points</font>\n",
    "$J = \\dfrac{1}{N}\\cdot\\dfrac{1}{2}\\displaystyle\\sum_{i = 1}^N(\\hat{y}_i - y_i)^2$"
   ]
  },
  {
   "cell_type": "markdown",
   "metadata": {
    "id": "XlNcV3lfdjzA"
   },
   "source": [
    "## <font color='cyan'>Prediction $\\hat{y}_i$ value</font>\n",
    "$\\hat{y}_i = w_0 + w_1x_i$"
   ]
  },
  {
   "cell_type": "markdown",
   "metadata": {
    "id": "NiP34HlPGDg9"
   },
   "source": [
    "# <font color='red'>Functions</font>"
   ]
  },
  {
   "cell_type": "code",
   "execution_count": 109,
   "metadata": {
    "id": "C727NlDZGE-3"
   },
   "outputs": [],
   "source": [
    "def linear_function(x, w):\n",
    "  return w[0] + w[1] * x"
   ]
  },
  {
   "cell_type": "markdown",
   "metadata": {
    "id": "DFvIdTdtey0S"
   },
   "source": [
    "# <font color='red'>Global variables</font>"
   ]
  },
  {
   "cell_type": "code",
   "execution_count": 110,
   "metadata": {
    "id": "IIjBNUdfe4_D"
   },
   "outputs": [],
   "source": [
    "# number of data records used to train\n",
    "NO_VALUES = 11\n",
    "# learning rate in gradient descent\n",
    "LEARNING_RATE = 0.001\n",
    "# number of learning iterations\n",
    "EPOCHS = 1000\n",
    "# interval at which training progress is printed\n",
    "VERBOSE = EPOCHS / 10"
   ]
  },
  {
   "cell_type": "markdown",
   "metadata": {
    "id": "IYcu5htpYkdE"
   },
   "source": [
    "# <font color='red'>Preprocessing</font>"
   ]
  },
  {
   "cell_type": "markdown",
   "metadata": {
    "id": "2hEHQSrIS8VY"
   },
   "source": [
    "## <font color='cyan'>Drop NaNs</font>"
   ]
  },
  {
   "cell_type": "code",
   "execution_count": 111,
   "metadata": {
    "id": "2aZt17LpYyZD"
   },
   "outputs": [],
   "source": [
    "import numpy as np\n",
    "import pandas as pd\n",
    "import matplotlib.pyplot as plt\n",
    "\n",
    "# read data from the imported csv file and drop NaN values\n",
    "data = pd.read_csv(\"./traffic_data.csv\").dropna().values\n",
    "\n",
    "# only get a subset data in the dataset\n",
    "data = data[:NO_VALUES]\n",
    "\n",
    "x = data[:, 0].reshape(-1, 1)\n",
    "y = data[:, 1].reshape(-1, 1)"
   ]
  },
  {
   "cell_type": "markdown",
   "metadata": {
    "id": "3SSM1FfxODK3"
   },
   "source": [
    "## <font color='cyan'>Standardize x (Feature Scaling)</font>"
   ]
  },
  {
   "cell_type": "code",
   "execution_count": 112,
   "metadata": {
    "id": "swy4moLZOFLr"
   },
   "outputs": [],
   "source": [
    "x_mean = np.mean(x, axis=0)\n",
    "x_std = np.std(x, axis=0)\n",
    "x = (x - x_mean) / x_std"
   ]
  },
  {
   "cell_type": "markdown",
   "metadata": {
    "id": "OAw02DHL8rHu"
   },
   "source": [
    "# <font color='red'>Data graph</font>"
   ]
  },
  {
   "cell_type": "code",
   "execution_count": 113,
   "metadata": {
    "colab": {
     "base_uri": "https://localhost:8080/",
     "height": 449
    },
    "executionInfo": {
     "elapsed": 485,
     "status": "ok",
     "timestamp": 1743188003470,
     "user": {
      "displayName": "Phi Trần Võ",
      "userId": "14184862236812613011"
     },
     "user_tz": -420
    },
    "id": "Tqrny9s48Dbp",
    "outputId": "5c49545a-0e07-4074-e47e-c4745cf264d4"
   },
   "outputs": [
    {
     "data": {
      "image/png": "[encoded data removed]",
      "text/plain": [
       "<Figure size 640x480 with 1 Axes>"
      ]
     },
     "metadata": {},
     "output_type": "display_data"
    }
   ],
   "source": [
    "plt.plot(x, y, 'bo')\n",
    "plt.xlabel(\"x\")\n",
    "plt.ylabel(\"y\")\n",
    "plt.show()"
   ]
  },
  {
   "cell_type": "markdown",
   "metadata": {
    "id": "b3zWJ2kq8sRQ"
   },
   "source": [
    "# <font color='red'>Train</font>"
   ]
  },
  {
   "cell_type": "code",
   "execution_count": 114,
   "metadata": {
    "colab": {
     "base_uri": "https://localhost:8080/"
    },
    "executionInfo": {
     "elapsed": 13946,
     "status": "ok",
     "timestamp": 1743188017417,
     "user": {
      "displayName": "Phi Trần Võ",
      "userId": "14184862236812613011"
     },
     "user_tz": -420
    },
    "id": "s0GIrMWh85vr",
    "outputId": "32967862-f309-468a-84ac-52c9eea12413"
   },
   "outputs": [
    {
     "name": "stdout",
     "output_type": "stream",
     "text": [
      "Epoch:  0  Cost:  [199.73382054]\n",
      "Epoch:  100  Cost:  [21.9601585]\n",
      "Epoch:  200  Cost:  [2.5009246]\n",
      "Epoch:  300  Cost:  [0.37090276]\n",
      "Epoch:  400  Cost:  [0.13774902]\n",
      "Epoch:  500  Cost:  [0.11222785]\n",
      "Epoch:  600  Cost:  [0.10943428]\n",
      "Epoch:  700  Cost:  [0.10912849]\n",
      "Epoch:  800  Cost:  [0.10909502]\n",
      "Epoch:  900  Cost:  [0.10909136]\n"
     ]
    }
   ],
   "source": [
    "# get number of records in dataset\n",
    "N = data.shape[0]\n",
    "\n",
    "# add a column of ones on the left of the old x\n",
    "x = np.hstack((np.ones((N, 1)), x))\n",
    "\n",
    "# create a w matrix with two initial values w_0=0 and w_1=1\n",
    "w = np.array([0., 1.]).reshape(-1, 1)\n",
    "\n",
    "cost = np.zeros((EPOCHS, 1))\n",
    "for i in range(EPOCHS):\n",
    "  r = x @ w - y\n",
    "\n",
    "  # get the most exact w_0\n",
    "  w[0] -= LEARNING_RATE * np.sum(r)\n",
    "  # get the most exact w_1\n",
    "  w[1] -= LEARNING_RATE * np.sum(r * x[:,1].reshape(-1, 1))\n",
    "\n",
    "  cost[i] = np.sum(r ** 2) / (2 * N)\n",
    "  if not i % VERBOSE:\n",
    "    print(\"Epoch: \", i, \" Cost: \", cost[i])"
   ]
  },
  {
   "cell_type": "markdown",
   "metadata": {},
   "source": [
    "# <font color='red'>Save the weights to a file</font>"
   ]
  },
  {
   "cell_type": "code",
   "execution_count": 115,
   "metadata": {},
   "outputs": [],
   "source": [
    "np.save('weights.npy', w)"
   ]
  },
  {
   "cell_type": "markdown",
   "metadata": {
    "id": "e7IjMw1my15C"
   },
   "source": [
    "# <font color='red'>Draw the cost function</font>"
   ]
  },
  {
   "cell_type": "code",
   "execution_count": 116,
   "metadata": {
    "colab": {
     "base_uri": "https://localhost:8080/",
     "height": 449
    },
    "executionInfo": {
     "elapsed": 814,
     "status": "ok",
     "timestamp": 1743188018235,
     "user": {
      "displayName": "Phi Trần Võ",
      "userId": "14184862236812613011"
     },
     "user_tz": -420
    },
    "id": "vvk9VBDdy5JR",
    "outputId": "4bfe5b7c-0bad-4f51-9926-e24543ca35b7"
   },
   "outputs": [
    {
     "data": {
      "image/png": "[encoded data removed]",
      "text/plain": [
       "<Figure size 640x480 with 1 Axes>"
      ]
     },
     "metadata": {},
     "output_type": "display_data"
    }
   ],
   "source": [
    "plt.plot(np.arange(0, EPOCHS), cost, 'm')\n",
    "plt.xlabel(\"Epochs\")\n",
    "plt.ylabel(\"Cost\")\n",
    "plt.show()"
   ]
  },
  {
   "cell_type": "markdown",
   "metadata": {
    "id": "C9itEloKWHEW"
   },
   "source": [
    "# <font color='red'>Draw the prediction line</font>"
   ]
  },
  {
   "cell_type": "code",
   "execution_count": 117,
   "metadata": {
    "colab": {
     "base_uri": "https://localhost:8080/",
     "height": 466
    },
    "executionInfo": {
     "elapsed": 647,
     "status": "ok",
     "timestamp": 1743188018883,
     "user": {
      "displayName": "Phi Trần Võ",
      "userId": "14184862236812613011"
     },
     "user_tz": -420
    },
    "id": "woZOJ5WjWLIB",
    "outputId": "d352355d-af30-4519-ea19-1746743df6ae"
   },
   "outputs": [
    {
     "data": {
      "image/png": "[encoded data removed]",
      "text/plain": [
       "<Figure size 640x480 with 1 Axes>"
      ]
     },
     "metadata": {},
     "output_type": "display_data"
    },
    {
     "name": "stdout",
     "output_type": "stream",
     "text": [
      "Predicted line:  18.27244013188535  +  9.084234239230534  * x\n"
     ]
    }
   ],
   "source": [
    " # replot the data\n",
    "plt.plot(x[:, 1], y, 'bo')\n",
    "\n",
    "# plot the prediction linear funtions\n",
    "x_values = np.linspace(np.min(x[:, 1]), np.max(x[:, 1]), 100)\n",
    "y_values = linear_function(x_values, w)\n",
    "plt.plot(x_values, y_values, 'r')\n",
    "\n",
    "plt.xlabel(\"x\")\n",
    "plt.ylabel(\"y\")\n",
    "plt.show()\n",
    "\n",
    "print(\"Predicted line: \", w[0][0], \" + \", w[1][0], \" * x\")"
   ]
  }
 ],
 "metadata": {
  "colab": {
   "provenance": []
  },
  "kernelspec": {
   "display_name": "Python 3",
   "name": "python3"
  },
  "language_info": {
   "codemirror_mode": {
    "name": "ipython",
    "version": 3
   },
   "file_extension": ".py",
   "mimetype": "text/x-python",
   "name": "python",
   "nbconvert_exporter": "python",
   "pygments_lexer": "ipython3",
   "version": "3.13.3"
  }
 },
 "nbformat": 4,
 "nbformat_minor": 0
}
